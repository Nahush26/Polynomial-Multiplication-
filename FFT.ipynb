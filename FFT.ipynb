{
 "cells": [
  {
   "cell_type": "code",
   "execution_count": 1,
   "id": "12d26c00",
   "metadata": {},
   "outputs": [],
   "source": [
    "import cmath\n",
    "import numpy as np"
   ]
  },
  {
   "cell_type": "code",
   "execution_count": 83,
   "id": "b0844eca",
   "metadata": {},
   "outputs": [],
   "source": [
    "def rounder(complexno):\n",
    "    c1 = round(complexno.real,6)\n",
    "    c2 = round(complexno.imag,6)\n",
    "    return c1 + c2*1j"
   ]
  },
  {
   "cell_type": "code",
   "execution_count": 84,
   "id": "157b35b5",
   "metadata": {},
   "outputs": [],
   "source": [
    "def padder(P):\n",
    "    n = len(P)\n",
    "    if(n==1):\n",
    "        return P\n",
    "    lp = int(1)\n",
    "    while(lp<2*n):\n",
    "        lp*=2\n",
    "    for i in range(lp-n):\n",
    "        P.append(0)\n",
    "    return P"
   ]
  },
  {
   "cell_type": "code",
   "execution_count": 85,
   "id": "e02754b5",
   "metadata": {},
   "outputs": [],
   "source": [
    "def FFT(P):\n",
    "    n = len(P)\n",
    "    #print(type(n/int(2)),type(n))\n",
    "    if(n == 1):\n",
    "        return P\n",
    "    w = np.exp((-2*1j*cmath.pi)/n)\n",
    "    Peven = [i for j,i in enumerate(P) if j%2 == 0]\n",
    "    Podd  = [i for j,i in enumerate(P) if j%2 != 0]\n",
    "    yeven,yodd = FFT(Peven),FFT(Podd)\n",
    "    #print(n,'\\n',yeven,'\\n',yodd)\n",
    "    ycurrent = [0]*n\n",
    "    #print(type(n/2),\"THIS\")\n",
    "    for j in range(n//2):\n",
    "        ycurrent[j] = yeven[j] + (w**j)*yodd[j]\n",
    "        ycurrent[j+n//2] = yeven[j] - (w**j)*yodd[j]\n",
    "    return ycurrent\n",
    "        \n",
    "    "
   ]
  },
  {
   "cell_type": "code",
   "execution_count": 86,
   "id": "de7dcb8f",
   "metadata": {},
   "outputs": [],
   "source": [
    "def IFFT(P):\n",
    "    n = len(P)\n",
    "    #print(type(n/int(2)),type(n))\n",
    "    if(n == 1):\n",
    "        return P\n",
    "    w = np.exp((2*1j*cmath.pi)/n)\n",
    "    Peven = [i for j,i in enumerate(P) if j%2 == 0]\n",
    "    Podd  = [i for j,i in enumerate(P) if j%2 != 0]\n",
    "    yeven,yodd = IFFT(Peven),IFFT(Podd)\n",
    "    #print(n,'\\n',yeven,'\\n',yodd)\n",
    "    ycurrent = [0]*n\n",
    "    #print(type(n/2),\"THIS\")\n",
    "    for j in range(n//2):\n",
    "        ycurrent[j] = yeven[j] + (w**j)*yodd[j]\n",
    "        ycurrent[j+n//2] = yeven[j] - (w**j)*yodd[j]\n",
    "    return ycurrent\n",
    "        "
   ]
  },
  {
   "cell_type": "code",
   "execution_count": 87,
   "id": "695db262",
   "metadata": {},
   "outputs": [],
   "source": [
    "#EDIT THIS BLOCK ONLY IF YOU WANT TO JUST TRY IT OUT , BUT FEEL FREE TO TWEAK OTHER STUFF IF YOU WISH TO\n",
    "a = [1,2,3] #Enter the coefficients of the first polynomial starting from the lowest order term\n",
    "b = [3,2,1] #Enter the coefficients of the first polynomial starting from the lowest order term\n",
    "    "
   ]
  },
  {
   "cell_type": "code",
   "execution_count": 88,
   "id": "c9d06f89",
   "metadata": {},
   "outputs": [
    {
     "name": "stdout",
     "output_type": "stream",
     "text": [
      "When performed correctly the imaginary part of each element of c will be exactly 0 (or nearly 0 due to floating point errors) and the real part of the elements represents in coefficients of the final polynomial starting from the lowest order.\n",
      "[(3+0j), (8+0j), (14+0j), (8+0j), (3+0j), 0j, 0j, 0j]\n"
     ]
    }
   ],
   "source": [
    "#The points we choose for the DFT are the nth roots of unity and the number of points has to be a power of 2\n",
    "#Hence we need to evaluate the polynomial at 2n points so we extend our polynomial with 0 coefficients to the \n",
    "#neartest power of 2\n",
    "a = padder(a)\n",
    "b = padder(b)\n",
    "#Performing the Fast Fourier Transform\n",
    "af = FFT(a)\n",
    "bf = FFT(b)\n",
    "#Getting the point value representation of the polynomials\n",
    "cf = [0]*len(af)\n",
    "for i in range(len(af)):\n",
    "    cf[i]=af[i]*bf[i]\n",
    "#Now inverting the Vandermonde matrix by performing the IFFT on cf. \n",
    "c = IFFT(cf) #Note the inversion is not complete because we still need to divide by the length n.\n",
    "#Rounding the values\n",
    "for i in range(len(c)):\n",
    "    c[i] = rounder(c[i])/len(c)\n",
    "print(\"When performed correctly the imaginary part of each element of c will be exactly 0 (or nearly 0 due to floating point errors) and the real part of the elements represents in coefficients of the final polynomial starting from the lowest order.\")\n",
    "print(c)\n"
   ]
  }
 ],
 "metadata": {
  "kernelspec": {
   "display_name": "Python 3 (ipykernel)",
   "language": "python",
   "name": "python3"
  },
  "language_info": {
   "codemirror_mode": {
    "name": "ipython",
    "version": 3
   },
   "file_extension": ".py",
   "mimetype": "text/x-python",
   "name": "python",
   "nbconvert_exporter": "python",
   "pygments_lexer": "ipython3",
   "version": "3.7.11"
  }
 },
 "nbformat": 4,
 "nbformat_minor": 5
}
